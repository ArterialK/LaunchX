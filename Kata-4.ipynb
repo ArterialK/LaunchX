{
 "cells": [
  {
   "cell_type": "markdown",
   "metadata": {},
   "source": [
    "# Manejo de Cadenas"
   ]
  },
  {
   "cell_type": "code",
   "execution_count": 13,
   "metadata": {},
   "outputs": [
    {
     "name": "stdout",
     "output_type": "stream",
     "text": [
      "Interesting facts about the Moon\n",
      " The Moon is Earth's only satellite\n",
      " There are several interesting facts about the Moon and how it affects life here on Earth\n",
      " \n",
      "On average, the Moon moves 4cm away from the Earth every year\n",
      " This yearly drift is not significant enough to cause immediate effects on Earth\n",
      " The highest daylight temperature of the Moon is 127 C\n",
      "\n"
     ]
    }
   ],
   "source": [
    "text = \"\"\"Interesting facts about the Moon. The Moon is Earth's only satellite. There are several interesting facts about the Moon and how it affects life here on Earth. \n",
    "On average, the Moon moves 4cm away from the Earth every year. This yearly drift is not significant enough to cause immediate effects on Earth. The highest daylight temperature of the Moon is 127 C.\"\"\"\n",
    "\n",
    "texto_div = text.split(\".\")\n",
    "for i in range(len(texto_div)):\n",
    "    print(texto_div[i])\n"
   ]
  },
  {
   "cell_type": "markdown",
   "metadata": {},
   "source": [
    "Buscando palabras clave"
   ]
  },
  {
   "cell_type": "code",
   "execution_count": 28,
   "metadata": {},
   "outputs": [
    {
     "name": "stdout",
     "output_type": "stream",
     "text": [
      "Detectando palabras clave average, temperature y distance\n",
      " \n",
      "On average, the Moon moves 4cm away from the Earth every year\n",
      " The highest daylight temperature of the Moon is 127 C\n"
     ]
    }
   ],
   "source": [
    "print(\"Detectando palabras clave average, temperature y distance\")\n",
    "\n",
    "palabras = [\"average\",\"temperature\",\"distance\"]\n",
    "for linea in range(len(texto_div)):\n",
    "    for palabra in range(len(palabras)):\n",
    "        if (palabras[palabra] in texto_div[linea]):\n",
    "            print(texto_div[linea])\n",
    "            break\n",
    "    "
   ]
  },
  {
   "cell_type": "markdown",
   "metadata": {},
   "source": [
    "Remplazando C por Celsius"
   ]
  },
  {
   "cell_type": "code",
   "execution_count": 46,
   "metadata": {},
   "outputs": [
    {
     "name": "stdout",
     "output_type": "stream",
     "text": [
      " The highest daylight temperature of the Moon is 127 Celsius\n"
     ]
    }
   ],
   "source": [
    "for linea in range(len(texto_div)):\n",
    "    if (\"C\" in texto_div[linea]):\n",
    "        print(texto_div[linea].replace(\"C\",\"Celsius\"))"
   ]
  },
  {
   "cell_type": "markdown",
   "metadata": {},
   "source": [
    "# Formateando Cadenas"
   ]
  },
  {
   "cell_type": "markdown",
   "metadata": {},
   "source": []
  },
  {
   "cell_type": "code",
   "execution_count": 11,
   "metadata": {},
   "outputs": [
    {
     "name": "stdout",
     "output_type": "stream",
     "text": [
      "Datos sobre la gravedad entre la Tierra y la Luna\n"
     ]
    }
   ],
   "source": [
    "#Datos a trabajar\n",
    "name = \"Luna\"\n",
    "gravity = 0.00162 #en kms\n",
    "planet = \"Tierra\"\n",
    "\n",
    "titulo = f'Datos sobre la gravedad entre la {planet.title()} y la {name.title()}'\n",
    "print(titulo)"
   ]
  },
  {
   "cell_type": "code",
   "execution_count": 14,
   "metadata": {},
   "outputs": [
    {
     "name": "stdout",
     "output_type": "stream",
     "text": [
      "A diferencia de Tierra  \n",
      "la gravedad de la Luna es de 1.6199999999999999 metros por segundo\n"
     ]
    }
   ],
   "source": [
    "multilinea = f'A diferencia de {planet.title()}  \\nla gravedad de la {name.title()} es de {gravity*1000} metros por segundo'\n",
    "print(multilinea)"
   ]
  },
  {
   "cell_type": "code",
   "execution_count": 16,
   "metadata": {},
   "outputs": [
    {
     "name": "stdout",
     "output_type": "stream",
     "text": [
      "Datos sobre la gravedad entre la Tierra y la Luna\n",
      "A diferencia de Tierra  \n",
      "la gravedad de la Luna es de 1.6199999999999999 metros por segundo\n"
     ]
    }
   ],
   "source": [
    "plantilla = titulo+\"\\n\"+multilinea\n",
    "print(plantilla)"
   ]
  },
  {
   "cell_type": "code",
   "execution_count": 17,
   "metadata": {},
   "outputs": [
    {
     "name": "stdout",
     "output_type": "stream",
     "text": [
      "Datos sobre la gravedad entre la Tierra y la Luna\n",
      "A diferencia de Tierra  \n",
      "la gravedad de la Luna es de 1.6199999999999999 metros por segundo\n"
     ]
    }
   ],
   "source": [
    "planet=\"Marte\"\n",
    "gravity = 0.00143\n",
    "name=\"Ganimedes\"\n",
    "print(plantilla)"
   ]
  },
  {
   "cell_type": "code",
   "execution_count": 23,
   "metadata": {},
   "outputs": [
    {
     "name": "stdout",
     "output_type": "stream",
     "text": [
      "Datos sobre la gravedad entre la Marte y la Ganimedes\n",
      "A diferencia de Marte  \n",
      "la gravedad de la Ganimedes es de 1.4300000000000002 metros por segundo\n"
     ]
    }
   ],
   "source": [
    "titulo = 'Datos sobre la gravedad entre la {} y la {}'.format(planet,name)\n",
    "multilinea = 'A diferencia de {}  \\nla gravedad de la {} es de {} metros por segundo'.format(planet,name,gravity*1000)\n",
    "print(titulo+\"\\n\"+multilinea)"
   ]
  }
 ],
 "metadata": {
  "interpreter": {
   "hash": "2be5faf79681da6f2a61fdfdd5405d65d042280f7fba6178067603e3a2925119"
  },
  "kernelspec": {
   "display_name": "Python 3.10.1 64-bit",
   "language": "python",
   "name": "python3"
  },
  "language_info": {
   "codemirror_mode": {
    "name": "ipython",
    "version": 3
   },
   "file_extension": ".py",
   "mimetype": "text/x-python",
   "name": "python",
   "nbconvert_exporter": "python",
   "pygments_lexer": "ipython3",
   "version": "3.10.1"
  },
  "orig_nbformat": 4
 },
 "nbformat": 4,
 "nbformat_minor": 2
}
