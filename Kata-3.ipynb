{
 "cells": [
  {
   "cell_type": "markdown",
   "metadata": {},
   "source": [
    "# Logica Booleana"
   ]
  },
  {
   "cell_type": "markdown",
   "metadata": {},
   "source": [
    "Advertencia de asteroide\n",
    "\n",
    "En esta tarea se usaran logicas condisionales para enviar un mensaje de alerta de un posible impacto con un asteroide"
   ]
  },
  {
   "cell_type": "code",
   "execution_count": 7,
   "metadata": {},
   "outputs": [
    {
     "name": "stdout",
     "output_type": "stream",
     "text": [
      "Peligro de impacto con Asteroide, Velocidad del asteroide de: 49 km/s\n",
      "Tomar todos sus puestos para impacto\n"
     ]
    }
   ],
   "source": [
    "vel_asteroid = 49\n",
    "if (vel_asteroid > 25):\n",
    "    print(\"Peligro de impacto con Asteroide, Velocidad del asteroide de:\", vel_asteroid,\"km/s\")\n",
    "    print(\"Tomar todos sus puestos para impacto\")\n",
    "else:\n",
    "    print(\"La velocidad del asteroide es segura para evitar impacto\")\n",
    "    print(\"Activando acciones evasivas automaticas\")"
   ]
  },
  {
   "cell_type": "markdown",
   "metadata": {},
   "source": [
    "# Rayo de luz visible desde la Tierra"
   ]
  },
  {
   "cell_type": "markdown",
   "metadata": {},
   "source": [
    "Si un asteroide entra a la tierra a una velocidad mayor o igual a 20 km/s es posible ver un rayo de luz\n",
    "por lo que se enviara una notificacion a la poblacion"
   ]
  },
  {
   "cell_type": "code",
   "execution_count": 18,
   "metadata": {},
   "outputs": [
    {
     "name": "stdout",
     "output_type": "stream",
     "text": [
      "Velocidad del asteoride insuficiente para percibir rayo de luz\n"
     ]
    }
   ],
   "source": [
    "vel_asteroid = 19\n",
    "if(vel_asteroid == 0):\n",
    "    print(\"Sin avistamiento de asteroide\")\n",
    "elif (vel_asteroid >= 20):\n",
    "    print(\"Aviso!, se proxima un asteoride que sera visible\")\n",
    "    print(\"Busquen en el cielo un rayo de luz\")\n",
    "else:\n",
    "    print(\"Velocidad del asteoride insuficiente para percibir rayo de luz\")\n"
   ]
  },
  {
   "cell_type": "markdown",
   "metadata": {},
   "source": [
    "# Asteroide entrante a la tierra"
   ]
  },
  {
   "cell_type": "markdown",
   "metadata": {},
   "source": [
    "Si un asteroide entra a la tierra con un diametro superior a los 25 metros este hara una gran destruccion por lo que se\n",
    "enviara una notificacion a la poblacion dependiendo del tamaño y velocidad de la amenaza teniendo en cuenta\n",
    "los datos anteriormente propuestos"
   ]
  },
  {
   "cell_type": "code",
   "execution_count": 24,
   "metadata": {},
   "outputs": [
    {
     "name": "stdout",
     "output_type": "stream",
     "text": [
      "Emergencia!!, asteroide entrando a la tierra\n",
      "Diametro de 30 metros\n",
      "Velocidad del asteoride: 25 km/s\n",
      "Destruccion masiva inminente!\n",
      "Tambien podra ver un rayo de luz en lo que espera la destruccion\n"
     ]
    }
   ],
   "source": [
    "dim_asteroid = 30\n",
    "vel_asteroid = 25\n",
    "if(dim_asteroid < 25 and vel_asteroid >= 20 and vel_asteroid < 25):\n",
    "    print(\"Asteroide entrando a la tierra\")\n",
    "    print(\"Diametro de\",dim_asteroid,\"metros. Insuficiente para ser un peligro\")\n",
    "    print(\"Velocidad del asteoride:\",vel_asteroid,\"km/s\")\n",
    "    print(\"Probabilidad de ver un rayo de luz en el cielo\")\n",
    "elif(dim_asteroid < 25 and vel_asteroid > 25):\n",
    "    print(\"Advertencia!, asteroide entrando a la tierra\")\n",
    "    print(\"Diametro de\",dim_asteroid,\"metros. Insuficiente para ser un peligro\")\n",
    "    print(\"Velocidad del asteoride:\",vel_asteroid,\"km/s\")\n",
    "    print(\"Probabilidad de ver un rayo de luz en el cielo\")\n",
    "elif(dim_asteroid >= 25 and dim_asteroid < 1000 and vel_asteroid >= 20):\n",
    "    print(\"Emergencia!!, asteroide entrando a la tierra\")\n",
    "    print(\"Diametro de\",dim_asteroid, \"metros\")\n",
    "    print(\"Velocidad del asteoride:\",vel_asteroid,\"km/s\")\n",
    "    print(\"Destruccion masiva inminente!\")\n",
    "    print(\"Tambien podra ver un rayo de luz en lo que espera la destruccion\")\n",
    "elif(dim_asteroid >= 25 and dim_asteroid < 1000 and vel_asteroid < 20):\n",
    "    print(\"Emergencia!!, asteroide entrando a la tierra\")\n",
    "    print(\"Diametro de\",dim_asteroid, \"metros\")\n",
    "    print(\"Velocidad del asteoride:\",vel_asteroid,\"km/s\")\n",
    "    print(\"Destruccion masiva inminente!\")"
   ]
  }
 ],
 "metadata": {
  "interpreter": {
   "hash": "2be5faf79681da6f2a61fdfdd5405d65d042280f7fba6178067603e3a2925119"
  },
  "kernelspec": {
   "display_name": "Python 3.10.1 64-bit",
   "language": "python",
   "name": "python3"
  },
  "language_info": {
   "codemirror_mode": {
    "name": "ipython",
    "version": 3
   },
   "file_extension": ".py",
   "mimetype": "text/x-python",
   "name": "python",
   "nbconvert_exporter": "python",
   "pygments_lexer": "ipython3",
   "version": "3.10.1"
  },
  "orig_nbformat": 4
 },
 "nbformat": 4,
 "nbformat_minor": 2
}
