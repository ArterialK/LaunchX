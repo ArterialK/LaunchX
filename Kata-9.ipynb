{
 "cells": [
  {
   "cell_type": "code",
   "execution_count": 6,
   "metadata": {},
   "outputs": [
    {
     "name": "stdout",
     "output_type": "stream",
     "text": [
      "Tanque 1: 0 %\n",
      "Tanque 2: 0 %\n",
      "Tanque 3: 0 %\n",
      "Promedio: 0.0 %\n"
     ]
    }
   ],
   "source": [
    "def informe(tanque1,tanque2, tanque3):\n",
    "    print(\"Tanque 1:\", tanque1, \"%\")\n",
    "    print(\"Tanque 2:\", tanque2, \"%\")\n",
    "    print(\"Tanque 3:\", tanque3, \"%\")\n",
    "    print(promedio(tanque1,tanque2, tanque3))\n",
    "    \n",
    "def promedio(tanque1,tanque2, tanque3):\n",
    "    return f'Promedio: {(tanque1+tanque2+tanque3)/3} %'\n",
    "\n",
    "informe(0,0,0)"
   ]
  },
  {
   "cell_type": "markdown",
   "metadata": {},
   "source": [
    "# Funcion detallada multientrada"
   ]
  },
  {
   "cell_type": "code",
   "execution_count": 8,
   "metadata": {},
   "outputs": [
    {
     "name": "stdout",
     "output_type": "stream",
     "text": [
      "Informe detallado\n",
      "Cohete actual con destino a Marte\n",
      "El tiempo de vuelo total: 40 minutos\n",
      "Tanque externo: 100 %\n",
      "Tanque interno: 100 %\n",
      "Combustible total: 200 %\n",
      "------------------------------------\n"
     ]
    }
   ],
   "source": [
    "def informeDetallado(prelanzamiento,tiempoV, tanqueEx,tanqueIn, destino):\n",
    "    print(\"Informe detallado\")\n",
    "    print(\"Cohete actual con destino a\", destino)\n",
    "    print(\"El tiempo de vuelo total:\",prelanzamiento+tiempoV,\"minutos\")\n",
    "    print(\"Tanque externo:\",tanqueEx, \"%\")\n",
    "    print(\"Tanque interno:\",tanqueIn,\"%\")\n",
    "    print(\"Combustible total:\",tanqueIn+tanqueEx,\"%\")\n",
    "    return f'------------------------------------'\n",
    "\n",
    "print(informeDetallado(5,35,100,100,\"Marte\"))"
   ]
  },
  {
   "cell_type": "code",
   "execution_count": 22,
   "metadata": {},
   "outputs": [
    {
     "name": "stdout",
     "output_type": "stream",
     "text": [
      "Informe detallado\n",
      "Cohete actual con destino a Marte\n",
      "El tiempo de vuelo total: (5, 10, 20) minutos\n",
      "Tanque:  0  al 100 %\n",
      "Tanque:  1  al 100 %\n",
      "Tanque:  2  al 100 %\n",
      "Combustible Total: 100.0 %\n",
      "------------------------------------\n"
     ]
    }
   ],
   "source": [
    "def informeDetallado(destino, *tiempo, **tanques):\n",
    "    print(\"Informe detallado\")\n",
    "    print(\"Cohete actual con destino a\", destino)\n",
    "    tiempoT = 0\n",
    "    for i in range(len(tiempo)):\n",
    "        tiempoT += tiempo[i]\n",
    "    print(\"El tiempo de vuelo total:\",tiempo,\"minutos\")\n",
    "    CombustibleT = 0\n",
    "    for i in range(len (tanques['tanques'])):\n",
    "        CombustibleT += tanques['tanques'][i]\n",
    "        print(\"Tanque: \",i,\" al\",tanques['tanques'][i],\"%\")\n",
    "    print(\"Combustible Total:\",CombustibleT/len(tanques['tanques']), \"%\")\n",
    "    return f'------------------------------------'\n",
    "\n",
    "print(informeDetallado(\"Marte\",5,10,20,tanques = [100,100,100]))"
   ]
  },
  {
   "cell_type": "code",
   "execution_count": 30,
   "metadata": {},
   "outputs": [
    {
     "name": "stdout",
     "output_type": "stream",
     "text": [
      "Informe detallado\n",
      "Cohete actual con destino a Marte\n",
      "El tiempo de vuelo total: (5, 10, 20) minutos\n",
      "Tanque:  externo  al 100 %\n",
      "Tanque:  interno  al 100 %\n",
      "Combustible Total: 100.0 %\n",
      "------------------------------------\n"
     ]
    }
   ],
   "source": [
    "def informeDetallado(destino, *tiempo, **tanques):\n",
    "    print(\"Informe detallado\")\n",
    "    print(\"Cohete actual con destino a\", destino)\n",
    "    tiempoT = 0\n",
    "    for i in range(len(tiempo)):\n",
    "        tiempoT += tiempo[i]\n",
    "    print(\"El tiempo de vuelo total:\",tiempo,\"minutos\")\n",
    "    CombustibleT = 0\n",
    "    for key, contein in tanques.items():\n",
    "        CombustibleT += contein\n",
    "        print(\"Tanque: \",key,\" al\",contein,\"%\")\n",
    "    print(\"Combustible Total:\",CombustibleT/len(tanques), \"%\")\n",
    "    return f'------------------------------------'\n",
    "\n",
    "print(informeDetallado(\"Marte\",5,10,20,externo = 100, interno = 100 ))"
   ]
  }
 ],
 "metadata": {
  "interpreter": {
   "hash": "2be5faf79681da6f2a61fdfdd5405d65d042280f7fba6178067603e3a2925119"
  },
  "kernelspec": {
   "display_name": "Python 3.10.1 64-bit",
   "language": "python",
   "name": "python3"
  },
  "language_info": {
   "codemirror_mode": {
    "name": "ipython",
    "version": 3
   },
   "file_extension": ".py",
   "mimetype": "text/x-python",
   "name": "python",
   "nbconvert_exporter": "python",
   "pygments_lexer": "ipython3",
   "version": "3.10.1"
  },
  "orig_nbformat": 4
 },
 "nbformat": 4,
 "nbformat_minor": 2
}
