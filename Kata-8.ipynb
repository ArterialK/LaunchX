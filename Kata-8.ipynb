{
 "cells": [
  {
   "cell_type": "markdown",
   "metadata": {},
   "source": [
    "# Uso de diccionarios"
   ]
  },
  {
   "cell_type": "code",
   "execution_count": 27,
   "metadata": {},
   "outputs": [
    {
     "name": "stdout",
     "output_type": "stream",
     "text": [
      "El planeta Mars \n",
      "Tiene 2 lunas\n"
     ]
    }
   ],
   "source": [
    "dicc = {'name':\"Mars\",'moons':2}\n",
    "print(\"El planeta\",dicc.get(\"name\"),\"\\nTiene\",dicc.get(\"moons\"),\"lunas\")"
   ]
  },
  {
   "cell_type": "code",
   "execution_count": 28,
   "metadata": {},
   "outputs": [
    {
     "name": "stdout",
     "output_type": "stream",
     "text": [
      "El planeta Mars \n",
      "Tiene 6792 kilometros de circunferencia\n"
     ]
    }
   ],
   "source": [
    "dicc['polar'] = 6752\n",
    "dicc['equatorial'] = 6792\n",
    "print(\"El planeta\",dicc.get(\"name\"),\"\\nTiene\",dicc[\"equatorial\"],\"kilometros de circunferencia\")"
   ]
  },
  {
   "cell_type": "markdown",
   "metadata": {},
   "source": [
    "# Numero de lunas en el sistema solar"
   ]
  },
  {
   "cell_type": "code",
   "execution_count": 43,
   "metadata": {},
   "outputs": [
    {
     "name": "stdout",
     "output_type": "stream",
     "text": [
      "Lunas totales: 214\n",
      "Planetas totales: 12\n",
      "Hay un promedio de: 17 lunas\n"
     ]
    }
   ],
   "source": [
    "planet_moons = {\n",
    "    'mercury': 0,\n",
    "    'venus': 0,\n",
    "    'earth': 1,\n",
    "    'mars': 2,\n",
    "    'jupiter': 79,\n",
    "    'saturn': 82,\n",
    "    'uranus': 27,\n",
    "    'neptune': 14,\n",
    "    'pluto': 5,\n",
    "    'haumea': 2,\n",
    "    'makemake': 1,\n",
    "    'eris': 1\n",
    "}\n",
    "moons = 0\n",
    "planets = 0\n",
    "for keys in planet_moons.keys():\n",
    "    moons += planet_moons[keys]\n",
    "    planets += 1\n",
    "print(\"Lunas totales:\", moons)\n",
    "print(\"Planetas totales:\", planets)\n",
    "\n",
    "print(\"Hay un promedio de:\",int(moons/planets), \"lunas\")"
   ]
  }
 ],
 "metadata": {
  "interpreter": {
   "hash": "2be5faf79681da6f2a61fdfdd5405d65d042280f7fba6178067603e3a2925119"
  },
  "kernelspec": {
   "display_name": "Python 3.10.1 64-bit",
   "language": "python",
   "name": "python3"
  },
  "language_info": {
   "codemirror_mode": {
    "name": "ipython",
    "version": 3
   },
   "file_extension": ".py",
   "mimetype": "text/x-python",
   "name": "python",
   "nbconvert_exporter": "python",
   "pygments_lexer": "ipython3",
   "version": "3.10.1"
  },
  "orig_nbformat": 4
 },
 "nbformat": 4,
 "nbformat_minor": 2
}
