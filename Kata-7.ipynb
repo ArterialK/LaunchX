{
 "cells": [
  {
   "cell_type": "code",
   "execution_count": 4,
   "metadata": {},
   "outputs": [
    {
     "name": "stdout",
     "output_type": "stream",
     "text": [
      "Ingresa el nombre del planeta y una vez terminado escribe done\n",
      "['tierra']\n"
     ]
    }
   ],
   "source": [
    "new_planet = \"\"\n",
    "planet =[]\n",
    "print(\"Ingresa el nombre del planeta y una vez terminado escribe \"\"done\"\"\")\n",
    "while(new_planet != \"done\"):\n",
    "    new_planet = \"\"\n",
    "    new_planet = input(\"Planeta:\")\n",
    "    if (new_planet != \"\" and new_planet != \"done\"):\n",
    "        planet.append(new_planet)\n",
    "\n",
    "for index in range(len(planet)):\n",
    "    print(planet[index])"
   ]
  }
 ],
 "metadata": {
  "interpreter": {
   "hash": "2be5faf79681da6f2a61fdfdd5405d65d042280f7fba6178067603e3a2925119"
  },
  "kernelspec": {
   "display_name": "Python 3.10.1 64-bit",
   "language": "python",
   "name": "python3"
  },
  "language_info": {
   "codemirror_mode": {
    "name": "ipython",
    "version": 3
   },
   "file_extension": ".py",
   "mimetype": "text/x-python",
   "name": "python",
   "nbconvert_exporter": "python",
   "pygments_lexer": "ipython3",
   "version": "3.10.1"
  },
  "orig_nbformat": 4
 },
 "nbformat": 4,
 "nbformat_minor": 2
}
