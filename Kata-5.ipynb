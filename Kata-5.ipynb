{
 "cells": [
  {
   "cell_type": "markdown",
   "metadata": {},
   "source": [
    "# Operaciones Matematicas"
   ]
  },
  {
   "cell_type": "code",
   "execution_count": 2,
   "metadata": {},
   "outputs": [
    {
     "name": "stdout",
     "output_type": "stream",
     "text": [
      "628949330 kilometros\n",
      "390577533.93 millas\n"
     ]
    }
   ],
   "source": [
    "tierra = 149597870\n",
    "jupiter = 778547200\n",
    "distancia = jupiter - tierra\n",
    "print(distancia, \"kilometros\")\n",
    "print ((distancia * 0.621), \"millas\")"
   ]
  },
  {
   "cell_type": "markdown",
   "metadata": {},
   "source": [
    "# Convertir cadenas en enteros"
   ]
  },
  {
   "cell_type": "code",
   "execution_count": 5,
   "metadata": {},
   "outputs": [
    {
     "name": "stdout",
     "output_type": "stream",
     "text": [
      "Ingresa la distancia entre el planeta y el sol\n",
      "La distancia entre los planetas es de: 50300000 kilometros\n",
      "La distancia entre los planetas es de: 31236300.0 millas\n"
     ]
    }
   ],
   "source": [
    "print(\"Ingresa la distancia entre el planeta y el sol\")\n",
    "planeta1 = int(input(\"Planeta 1: \"))\n",
    "planeta2 = int(input(\"Planeta 2: \"))\n",
    "\n",
    "distancia = abs(planeta1 - planeta2 )\n",
    "print(\"La distancia entre los planetas es de:\",distancia,\"kilometros\")\n",
    "print(\"La distancia entre los planetas es de:\",distancia*0.621,\"millas\")"
   ]
  }
 ],
 "metadata": {
  "interpreter": {
   "hash": "2be5faf79681da6f2a61fdfdd5405d65d042280f7fba6178067603e3a2925119"
  },
  "kernelspec": {
   "display_name": "Python 3.10.1 64-bit",
   "language": "python",
   "name": "python3"
  },
  "language_info": {
   "codemirror_mode": {
    "name": "ipython",
    "version": 3
   },
   "file_extension": ".py",
   "mimetype": "text/x-python",
   "name": "python",
   "nbconvert_exporter": "python",
   "pygments_lexer": "ipython3",
   "version": "3.10.1"
  },
  "orig_nbformat": 4
 },
 "nbformat": 4,
 "nbformat_minor": 2
}
