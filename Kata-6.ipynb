{
 "cells": [
  {
   "cell_type": "markdown",
   "metadata": {},
   "source": [
    "# Manejo de Listas"
   ]
  },
  {
   "cell_type": "code",
   "execution_count": 5,
   "metadata": {},
   "outputs": [
    {
     "name": "stdout",
     "output_type": "stream",
     "text": [
      "Total de planetas:  8\n",
      "Total:  9 Ultimo agregado Pluton\n"
     ]
    }
   ],
   "source": [
    "planets = [\"Mercurio\", \"Venus\", \"Tierra\",\"Marte\",\"Jupiter\",\"Saturno\",\"Urano\",\"Neptuno\"]\n",
    "\n",
    "print(\"Total de planetas: \",len(planets))\n",
    "planets.append(\"Pluton\")\n",
    "print(\"Total: \",len(planets), \"Ultimo agregado\",planets[len(planets)-1])"
   ]
  },
  {
   "cell_type": "markdown",
   "metadata": {},
   "source": [
    "# Manejos de datos en la lista"
   ]
  },
  {
   "cell_type": "code",
   "execution_count": 13,
   "metadata": {},
   "outputs": [
    {
     "name": "stdout",
     "output_type": "stream",
     "text": [
      "Los planetas mas cercanos al sol al elegido son: ['Mercury', 'Venus']\n",
      "Los planetas mas alejados al sol al elegido son: ['Jupiter', 'Saturn', 'Neptune']\n"
     ]
    }
   ],
   "source": [
    "# Lista de planetas\n",
    "planets = ['Mercury', 'Venus', 'Earth', 'Mars', 'Jupiter', 'Saturn', 'Neptune']\n",
    "flag = False\n",
    "\n",
    "name = input(\"Enter the name of a planet:\")\n",
    "for index in range(len(planets)):\n",
    "    if (name == planets[index]):\n",
    "        flag = True\n",
    "        break\n",
    "    if (index == len(planets)-1):\n",
    "        print(\"No se encontro el planeta. *Pista, escribelo en ingles y primera en mayuscula\")\n",
    "if(index == 0 and flag == True):\n",
    "    print(\"Tu planeta es el mas cercano\")\n",
    "elif(flag == True):\n",
    "    print(\"Los planetas mas cercanos al sol al elegido son:\",planets[:index - 1])\n",
    "    print(\"Los planetas mas alejados al sol al elegido son:\",planets[index+1:])"
   ]
  }
 ],
 "metadata": {
  "interpreter": {
   "hash": "2be5faf79681da6f2a61fdfdd5405d65d042280f7fba6178067603e3a2925119"
  },
  "kernelspec": {
   "display_name": "Python 3.10.1 64-bit",
   "language": "python",
   "name": "python3"
  },
  "language_info": {
   "codemirror_mode": {
    "name": "ipython",
    "version": 3
   },
   "file_extension": ".py",
   "mimetype": "text/x-python",
   "name": "python",
   "nbconvert_exporter": "python",
   "pygments_lexer": "ipython3",
   "version": "3.10.1"
  },
  "orig_nbformat": 4
 },
 "nbformat": 4,
 "nbformat_minor": 2
}
